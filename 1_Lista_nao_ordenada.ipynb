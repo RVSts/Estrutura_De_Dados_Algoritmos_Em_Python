{
 "cells": [
  {
   "cell_type": "markdown",
   "id": "1fec49e2-88ae-4129-b41f-b4430e2901fb",
   "metadata": {},
   "source": [
    "# Algoritmos Iterativo em Python: Lista Linear Não Ordenada\n",
    "\n",
    "* Busca linear"
   ]
  },
  {
   "cell_type": "code",
   "execution_count": 13,
   "id": "47bd2b73-1cd2-4e66-a90a-2b51ee4ae16e",
   "metadata": {},
   "outputs": [
    {
     "name": "stdin",
     "output_type": "stream",
     "text": [
      "Informe um número para ser procurado na lista:  3\n"
     ]
    }
   ],
   "source": [
    "# número a ser procurado e lista com valores aletórios e não-ordenados\n",
    "\n",
    "numero = int(input(\"Informe um número para ser procurado na lista: \"))\n",
    "lista_num= [34, 12, 7, 53, 21, 8, 66, 45, 19, 90, 3, 77, 28, 14, 59, 82, 1, 36, 49, 27, 88, 5, 42, 11, 73, 60, 25, 39, 48, 92, 17, 84];\n",
    "n = len(lista_num)"
   ]
  },
  {
   "cell_type": "code",
   "execution_count": 14,
   "id": "8aa15100-57fa-40fe-ad29-70b5b89613b3",
   "metadata": {},
   "outputs": [
    {
     "name": "stdout",
     "output_type": "stream",
     "text": [
      "Número encontrado na posição: 10\n"
     ]
    }
   ],
   "source": [
    "# função do algoritmo de busca linear\n",
    "\n",
    "def busca(x, lista):\n",
    "    i = 0\n",
    "    busca = -1\n",
    "    while i < n:\n",
    "        if lista[i] == x:\n",
    "            busca = i\n",
    "            i = n+1\n",
    "        else:\n",
    "            i = i+1\n",
    "    return busca\n",
    "\n",
    "# executando o algoritmo\n",
    "resultado = busca(numero, lista_num)\n",
    "\n",
    "# printando resultados encontrados\n",
    "\n",
    "if resultado != -1:\n",
    "    print(f\"Número encontrado na posição: {resultado}\")\n",
    "else:\n",
    "    print(\"Número não encontrado na lista.\")"
   ]
  },
  {
   "cell_type": "code",
   "execution_count": 37,
   "id": "0510ffac-1d62-4b61-b8c2-da44aac75ae1",
   "metadata": {},
   "outputs": [
    {
     "name": "stdout",
     "output_type": "stream",
     "text": [
      "Número encontrado na posição: 10\n"
     ]
    }
   ],
   "source": [
    "# função do algoritmo de busca linear (alternativa)\n",
    "\n",
    "def busca2(x, lista):\n",
    "    i = 0\n",
    "    busca = -1\n",
    "    \n",
    "    while i < n and lista[i] != x:\n",
    "        i = i+1\n",
    "    return i\n",
    "\n",
    "# executando o algoritmo\n",
    "resultado = busca(numero, lista_num)\n",
    "\n",
    "# printando resultados encontrados\n",
    "\n",
    "if resultado != -1:\n",
    "    print(f\"Número encontrado na posição: {resultado}\")\n",
    "else:\n",
    "    print(\"Número não encontrado na lista.\")"
   ]
  },
  {
   "cell_type": "code",
   "execution_count": 41,
   "id": "cb7601b5-b86e-48e0-b6b2-0b5ccbacd7a3",
   "metadata": {},
   "outputs": [
    {
     "name": "stdout",
     "output_type": "stream",
     "text": [
      "Número encontrado na posição: 10\n"
     ]
    }
   ],
   "source": [
    "# função do algoritmo de bussca linear com execução mais rápida:\n",
    "\n",
    "def busca3(x, lista):\n",
    "    lista.append(x)\n",
    "    i = 0\n",
    "\n",
    "    while lista[i] != x:\n",
    "        i = i+1\n",
    "    if i != n:\n",
    "        busca = i\n",
    "    else:\n",
    "        busca = -1\n",
    "\n",
    "    return busca\n",
    "\n",
    "# executando o algoritmo\n",
    "resultado = busca(numero, lista_num)\n",
    "\n",
    "# printando resultados encontrados\n",
    "\n",
    "if resultado != -1:\n",
    "    print(f\"Número encontrado na posição: {resultado}\")\n",
    "else:\n",
    "    print(\"Número não encontrado na lista.\")"
   ]
  }
 ],
 "metadata": {
  "kernelspec": {
   "display_name": "Python 3 (ipykernel)",
   "language": "python",
   "name": "python3"
  },
  "language_info": {
   "codemirror_mode": {
    "name": "ipython",
    "version": 3
   },
   "file_extension": ".py",
   "mimetype": "text/x-python",
   "name": "python",
   "nbconvert_exporter": "python",
   "pygments_lexer": "ipython3",
   "version": "3.12.6"
  }
 },
 "nbformat": 4,
 "nbformat_minor": 5
}
