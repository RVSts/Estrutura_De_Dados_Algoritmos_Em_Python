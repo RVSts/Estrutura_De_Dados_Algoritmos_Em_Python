{
 "cells": [
  {
   "cell_type": "markdown",
   "id": "66d48a6b-7fb1-4484-a8b2-9ca3c5e83250",
   "metadata": {},
   "source": [
    "# Algoritmos Iterativo em Python: Lista Linear Ordenada\n",
    "\n",
    "* Busca ordenada\n",
    "* Busca binária\n",
    "* Inclusão\n",
    "* Exclusão\n",
    "\n",
    "---\n",
    "## Busca-Binária ou Ordenada:\n",
    "\n",
    "* A ``busca binária`` é um algoritmo que é eficiente para listas ordenadas. Ela funciona dividindo por diversas vezes o espaço de pesquisa (lista) pela metade, então comparando o elemento alvo com o valor do meio da lista. No caso de valor do meio seja igual ao que queremos encontrar, a busca termina, pois o valor foi encontrado. Caso o valor intermediário da lista seja maior que o que do elemento buscado, a busca continua na metade inferior; caso seja menor, na metade superior. O processo é repetido até que o elemento seja encontrado ou o intervalo de busca alcance zero, não sendo mais possível dividir a lista. A busca binária tem uma complexidade de tempo de O(log n), sendo, portanto, muito mais eficiente que a busca ordenada (linear) no caso de listas grandes.\n",
    "\n",
    "* Já na ``busca ordenada``, também conhecida como linear, pode-se utilizá-la em qualquer lista, seja ordenada ou não. Ela verifica cada elemento de uma lista um por um, da primeira até a última posição. A busca termina caso seja encontrado o elemento procurado ou até que a lista seja completamente percorrida. Se o elemento for encontrado, a busca termina. O algoritmo retorna que o elemento não está presente caso percorra toda a lista sem encontrá-lo. A complexidade da busca linear é sempre O(n), o que significa que tanto pior o desempenho quanto maior o tamanho da lista a ser percorrida."
   ]
  },
  {
   "cell_type": "code",
   "execution_count": 21,
   "id": "bcf32537-cb1e-47f4-8e5c-ddb456e8757b",
   "metadata": {},
   "outputs": [
    {
     "name": "stdout",
     "output_type": "stream",
     "text": [
      "Número encontrado na posição: 100\n"
     ]
    }
   ],
   "source": [
    "# função do algoritmo de busca em lista ordenada\n",
    "def busca_ordenada(y, i):\n",
    "    busca_ord = -1\n",
    "\n",
    "    while i < (tam-1) and lista_ordenada[i] < y:\n",
    "        i = i+1\n",
    "        \n",
    "    if lista_ordenada[i] == y:\n",
    "        busca_ord = i\n",
    "\n",
    "    return busca_ord\n",
    "\n",
    "\n",
    "# executando o algoritmo de busca ordenada\n",
    "resultado_ord = busca_ordenada(numero_bsc, i)\n",
    "\n",
    "# printando resultado da busca \n",
    "if resultado_ord != -1:\n",
    "    print(f\"Número encontrado na posição: {resultado_ord}\")\n",
    "else:\n",
    "    print(\"Número não encontrado na lista.\")"
   ]
  },
  {
   "cell_type": "code",
   "execution_count": 22,
   "id": "cf24e386-ea43-4fe1-b304-5b3a2352721e",
   "metadata": {},
   "outputs": [
    {
     "name": "stdout",
     "output_type": "stream",
     "text": [
      "Número encontrado na posição: 100\n"
     ]
    }
   ],
   "source": [
    "# função do algoritmo de busca binária em lista ordenada\n",
    "\n",
    "def busca_binaria(y, i):\n",
    "    inf = 0\n",
    "    sup = tam-1\n",
    "    busca_bin = -1\n",
    "\n",
    "    while inf <= sup:\n",
    "        meio = int(inf+sup) //2\n",
    "\n",
    "        if lista_ordenada[meio] == y:\n",
    "            busca_bin = meio\n",
    "            inf = sup + 1\n",
    "            \n",
    "        elif lista_ordenada[meio] < y:\n",
    "            inf = meio + 1\n",
    "        else:\n",
    "            sup = meio -1\n",
    "            \n",
    "    return busca_bin\n",
    "        \n",
    "# executando o algoritmo de busca ordenada\n",
    "\n",
    "resultado_bin = busca_binaria(numero_bsc, i)\n",
    "\n",
    "# printando resultado da busca \n",
    "\n",
    "if resultado_bin != -1:\n",
    "    print(f\"Número encontrado na posição: {resultado_bin}\")\n",
    "else:\n",
    "    print(\"Número não encontrado na lista.\")"
   ]
  },
  {
   "cell_type": "code",
   "execution_count": 23,
   "id": "4722dc46-3ba8-44bd-8885-bbe22022223c",
   "metadata": {},
   "outputs": [],
   "source": [
    "# inserção iterativa em lista\n",
    "\n",
    "def inserir(elemento, i, tam):\n",
    "    posicao = busca_binaria(elemento, lista_ordenada)\n",
    "    lista_ordenada += [None]  # Expande a lista com um espaço vazio\n",
    "\n",
    "    # Desloca elementos para a direita\n",
    "    tam = len(lista_ordenada) - 1\n",
    "    while i > posicao:\n",
    "        lista_ordenada[i] = lista_ordenada[i - 1]\n",
    "        i -= 1\n",
    "\n",
    "    lista_ordenada[posicao] = elemento  # Insere o elemento na posição correta\n",
    "\n",
    "inserir_iterativo(4, lista_ord)\n",
    "print(lista_ord)"
   ]
  },
  {
   "cell_type": "code",
   "execution_count": 24,
   "id": "3aec6de2-0d06-4ed0-85b7-8458c64b3eda",
   "metadata": {},
   "outputs": [],
   "source": [
    "# remoção iterativa em lista \n",
    "\n",
    "def excluir(elemento, lista_ordenada):\n",
    "    posicao = busca_binaria(elemento, lista_ordenada)\n",
    "\n",
    "    # Verifica se o elemento está presente na posição encontrada\n",
    "    if posicao < len(lista_ordenada) and lista_ordenada[posicao] == elemento:\n",
    "        # Desloca elementos para a esquerda\n",
    "        i = posicao\n",
    "        while i < len(lista_ordenada) - 1:\n",
    "            lista_ordenada[i] = lista_ordenada[i + 1]\n",
    "            i += 1\n",
    "\n",
    "        lista_ordenada.pop()  # Remove o último elemento redundante"
   ]
  },
  {
   "cell_type": "code",
   "execution_count": null,
   "id": "c8104513-bf5e-49b3-bbd3-ad92e7735153",
   "metadata": {},
   "outputs": [
    {
     "name": "stdout",
     "output_type": "stream",
     "text": [
      "\n",
      "Escolha uma operação:\n",
      "(1) Inclusão\n",
      "(2) Exclusão\n",
      "(3) Mostrar lista\n",
      "(4) Busca binária\n",
      "(0) Sair\n"
     ]
    },
    {
     "name": "stdin",
     "output_type": "stream",
     "text": [
      "Digite sua escolha:  1\n",
      "Digite o valor para incluir:  153\n"
     ]
    },
    {
     "name": "stdout",
     "output_type": "stream",
     "text": [
      "Valor incluído com sucesso.\n",
      "\n",
      "Escolha uma operação:\n",
      "(1) Inclusão\n",
      "(2) Exclusão\n",
      "(3) Mostrar lista\n",
      "(4) Busca binária\n",
      "(0) Sair\n"
     ]
    },
    {
     "name": "stdin",
     "output_type": "stream",
     "text": [
      "Digite sua escolha:  3\n"
     ]
    },
    {
     "name": "stdout",
     "output_type": "stream",
     "text": [
      "Lista atual:\n",
      "50 51 52 53 54 55 56 57 58 59 60 61 62 63 64 65 66 67 68 69 70 71 72 73 74 75 76 77 78 79 80 81 82 83 84 85 86 87 88 89 90 91 92 93 94 95 96 97 98 99 100 101 102 103 104 105 106 107 108 109 110 111 112 113 114 115 116 117 118 119 120 121 122 123 124 125 126 127 128 129 130 131 132 133 134 135 136 137 138 139 140 141 142 143 144 145 146 147 148 149 150 153 \n",
      "\n",
      "Escolha uma operação:\n",
      "(1) Inclusão\n",
      "(2) Exclusão\n",
      "(3) Mostrar lista\n",
      "(4) Busca binária\n",
      "(0) Sair\n"
     ]
    }
   ],
   "source": [
    "# Criação de uma lista ordenada com valores no intervalo\n",
    "lista_ordenada = list(range(50, 151))\n",
    "tam = len(lista_ordenada)\n",
    "\n",
    "\n",
    "# Função do algoritmo de busca em lista ordenada\n",
    "def busca_ordenada(y):\n",
    "    i = 0\n",
    "    while i < len(lista_ordenada) and lista_ordenada[i] < y:\n",
    "        i += 1\n",
    "    if i < len(lista_ordenada) and lista_ordenada[i] == y:\n",
    "        return i\n",
    "    return -1\n",
    "\n",
    "\n",
    "# Função do algoritmo de busca binária em lista ordenada\n",
    "def busca_binaria(y):\n",
    "    inf = 0\n",
    "    sup = len(lista_ordenada) - 1\n",
    "    while inf <= sup:\n",
    "        meio = (inf + sup) // 2\n",
    "        if lista_ordenada[meio] == y:\n",
    "            return meio\n",
    "        elif lista_ordenada[meio] < y:\n",
    "            inf = meio + 1\n",
    "        else:\n",
    "            sup = meio - 1\n",
    "    return -1\n",
    "\n",
    "\n",
    "# Inserção iterativa em lista\n",
    "def inserir(elemento):\n",
    "    posicao = 0\n",
    "    while posicao < len(lista_ordenada) and lista_ordenada[posicao] < elemento:\n",
    "        posicao += 1\n",
    "\n",
    "    lista_ordenada.append(None)  # Expande a lista com espaço vazio\n",
    "    i = len(lista_ordenada) - 1\n",
    "    while i > posicao:\n",
    "        lista_ordenada[i] = lista_ordenada[i - 1]\n",
    "        i -= 1\n",
    "\n",
    "    lista_ordenada[posicao] = elemento\n",
    "\n",
    "\n",
    "# Remoção iterativa em lista\n",
    "def excluir(elemento):\n",
    "    posicao = busca_binaria(elemento)\n",
    "    if posicao != -1:  # Verifica se o elemento foi encontrado\n",
    "        i = posicao\n",
    "        while i < len(lista_ordenada) - 1:\n",
    "            lista_ordenada[i] = lista_ordenada[i + 1]\n",
    "            i += 1\n",
    "        lista_ordenada.pop()  # Remove o último elemento redundante\n",
    "\n",
    "\n",
    "# Loop de interação com o usuário\n",
    "while True:\n",
    "    print(\"\\nEscolha uma operação:\")\n",
    "    print(\"(1) Inclusão\")\n",
    "    print(\"(2) Exclusão\")\n",
    "    print(\"(3) Mostrar lista\")\n",
    "    print(\"(4) Busca binária\")\n",
    "    print(\"(0) Sair\")\n",
    "    opcao = int(input(\"Digite sua escolha: \"))\n",
    "\n",
    "    if opcao == 0:\n",
    "        print(\"Encerrando o programa.\")\n",
    "        break\n",
    "    elif opcao == 1:\n",
    "        chave = int(input(\"Digite o valor para incluir: \"))\n",
    "        inserir(chave)\n",
    "        print(\"Valor incluído com sucesso.\")\n",
    "    elif opcao == 2:\n",
    "        chave = int(input(\"Digite o valor para excluir: \"))\n",
    "        excluir(chave)\n",
    "        print(\"Valor excluído com sucesso.\")\n",
    "    elif opcao == 3:\n",
    "        print(\"Lista atual:\")\n",
    "        for item in lista_ordenada:\n",
    "            print(item, end=\" \")\n",
    "        print()\n",
    "    elif opcao == 4:\n",
    "        chave = int(input(\"Digite o valor para buscar: \"))\n",
    "        posicao = busca_binaria(chave)\n",
    "        if posicao != -1:\n",
    "            print(f\"Valor encontrado na posição {posicao}.\")\n",
    "        else:\n",
    "            print(\"Valor não encontrado.\")\n",
    "    else:\n",
    "        print(\"Opção inválida. Tente novamente.\")\n"
   ]
  }
 ],
 "metadata": {
  "kernelspec": {
   "display_name": "Python 3 (ipykernel)",
   "language": "python",
   "name": "python3"
  },
  "language_info": {
   "codemirror_mode": {
    "name": "ipython",
    "version": 3
   },
   "file_extension": ".py",
   "mimetype": "text/x-python",
   "name": "python",
   "nbconvert_exporter": "python",
   "pygments_lexer": "ipython3",
   "version": "3.12.6"
  }
 },
 "nbformat": 4,
 "nbformat_minor": 5
}
