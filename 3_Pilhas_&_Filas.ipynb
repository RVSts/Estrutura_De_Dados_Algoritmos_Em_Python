{
 "cells": [
  {
   "cell_type": "markdown",
   "id": "f7303d29-28ca-48c3-ae8f-960c61333435",
   "metadata": {},
   "source": [
    "# Algoritmos de Pilhas & Filas\n",
    "\n",
    "* Empilhamento\n",
    "* Desempilhamento\n",
    "* Enfileiramento\n",
    "* Desenfileiramento\n",
    "\n",
    "---\n",
    "## Pilhas:\n",
    "\n",
    "* Uma pilha é uma estrutura de dados que segue o princípio LIFO (Last In, First Out), onde o último elemento inserido é o primeiro a ser removido. Ela permite duas operações principais: push, que adiciona um elemento ao topo da pilha, e pop, que remove o elemento do topo. Além disso, a operação Top (ou Peek) permite acessar o elemento no topo sem removê-lo. As pilhas são utilizadas em diversas aplicações, como controle de execução de programas (recursão), navegação por estruturas como árvores e grafos, e implementação de desfazer/refazer em editores de texto, devido à sua maneira simples e eficiente de gerenciar dados na ordem de inserção e remoção.\n",
    "\n",
    "---\n",
    "\n",
    "## Filas\n",
    "\n",
    "* Uma fila é uma estrutura de dados que segue o princípio FIFO (First In, First Out), onde o primeiro elemento a ser inserido é o primeiro a ser removido, semelhante a uma fila de pessoas esperando para serem atendidas. As operações principais de uma fila são enqueue, que adiciona um elemento ao final da fila, e dequeue, que remove o elemento da frente. Além disso, a operação front permite acessar o elemento da frente sem removê-lo. As filas são amplamente usadas em sistemas de gerenciamento de tarefas, como em impressoras, em filas de atendimento de sistemas operacionais ou até no gerenciamento de processos em uma CPU, pois garantem que os elementos sejam processados na ordem em que chegam. "
   ]
  },
  {
   "cell_type": "markdown",
   "id": "94f974d9-4480-48a2-ae84-14f5a23a8133",
   "metadata": {},
   "source": [
    "# PILHAS"
   ]
  },
  {
   "cell_type": "code",
   "execution_count": 2,
   "id": "eec5ba31-807d-4665-8b5c-f87cbc4505c7",
   "metadata": {},
   "outputs": [],
   "source": [
    "def empilhar(pilha, topo, valor, capacidade):\n",
    "    if topo < capacidade - 1:\n",
    "        topo += 1\n",
    "        pilha[topo] = valor\n",
    "    else:\n",
    "        raise OverflowError(\"Pilha cheia.\")\n",
    "    return pilha, topo"
   ]
  },
  {
   "cell_type": "code",
   "execution_count": 3,
   "id": "4d55e1bf-360e-41e6-af35-df9a6d4c0ae3",
   "metadata": {},
   "outputs": [],
   "source": [
    "def desempilhar(pilha, topo):\n",
    "    if topo == -1:\n",
    "        raise IndexError(\"A pilha está vazia.\")\n",
    "    valor = pilha[topo]\n",
    "    topo -= 1\n",
    "    return pilha, topo, valor"
   ]
  },
  {
   "cell_type": "code",
   "execution_count": 4,
   "id": "5ba5b508-2788-43a4-9d4c-7d416ed60941",
   "metadata": {},
   "outputs": [
    {
     "name": "stdout",
     "output_type": "stream",
     "text": [
      "[10, 20]\n",
      "20\n",
      "[10]\n"
     ]
    }
   ],
   "source": [
    "# Exemplo de uso\n",
    "M = 5  # Capacidade máxima da pilha\n",
    "pilha = [None] * M\n",
    "inicio_topo = -1\n",
    "\n",
    "# Empilhando elementos\n",
    "pilha, inicio_topo = empilhar(pilha, inicio_topo, 10, M)\n",
    "pilha, inicio_topo = empilhar(pilha, inicio_topo, 20, M)\n",
    "print(pilha[:inicio_topo + 1])\n",
    "\n",
    "# Desempilhando um elemento\n",
    "pilha, inicio_topo, desempilhado = desempilhar(pilha, inicio_topo)\n",
    "print(desempilhado)\n",
    "print(pilha[:inicio_topo + 1])"
   ]
  },
  {
   "cell_type": "code",
   "execution_count": 6,
   "id": "1c740fbe-387e-4c0b-9a47-aee392b5f692",
   "metadata": {},
   "outputs": [],
   "source": [
    "def enfileirar(fila, fim, valor, capacidade):\n",
    "    if fim < capacidade -1:\n",
    "        fim = fim + 1\n",
    "        fila[fim] = valor\n",
    "    else:\n",
    "        raise OverflowErro(\"Fila cheia.\")\n",
    "    return fila, fim\n"
   ]
  },
  {
   "cell_type": "code",
   "execution_count": 7,
   "id": "ea4dc85e-daf8-4a7a-b2a3-aa1deadc875f",
   "metadata": {},
   "outputs": [],
   "source": [
    "def desenfileirar(fila, inicio, fim):\n",
    "    if inicio <= fim:\n",
    "        valor = fila[inicio]\n",
    "        inicio = inicio - 1\n",
    "    else:\n",
    "        raise IndexError(\"A fila está vzia.\")\n",
    "    return pilha, início, valor"
   ]
  }
 ],
 "metadata": {
  "kernelspec": {
   "display_name": "Python 3 (ipykernel)",
   "language": "python",
   "name": "python3"
  },
  "language_info": {
   "codemirror_mode": {
    "name": "ipython",
    "version": 3
   },
   "file_extension": ".py",
   "mimetype": "text/x-python",
   "name": "python",
   "nbconvert_exporter": "python",
   "pygments_lexer": "ipython3",
   "version": "3.12.6"
  }
 },
 "nbformat": 4,
 "nbformat_minor": 5
}
