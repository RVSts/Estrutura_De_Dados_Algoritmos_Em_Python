{
 "cells": [
  {
   "cell_type": "markdown",
   "id": "92f17409-617e-4006-aa45-6c2e5474e639",
   "metadata": {},
   "source": [
    "# Lista Circular Encadeada\n",
    "\n",
    "* busca\n",
    "* inclusão\n",
    "* exclusão\n",
    "\n",
    "---\n",
    "Uma lista circular encadeada é uma estrutura de dados onde os elementos, chamados de nós, estão encadeados de forma que o último nó aponta de volta para o primeiro, formando um ciclo. Cada nó contém dois componentes: um valor e um ponteiro que referencia o próximo nó da lista. Ao contrário das listas encadeadas tradicionais, que têm um último nó apontando para nulo, na lista circular o último nó aponta para o primeiro nó, permitindo percorrer a lista de forma contínua. Essa estrutura é útil em situações onde é necessário percorrer repetidamente os elementos, como em sistemas de gerenciamento de tarefas cíclicas ou em jogos de turnos, onde a execução precisa retornar ao início após alcançar o final."
   ]
  },
  {
   "cell_type": "code",
   "execution_count": null,
   "id": "8aeaa075-b768-4185-ba8b-5b96c00de5ad",
   "metadata": {},
   "outputs": [
    {
     "name": "stdin",
     "output_type": "stream",
     "text": [
      "Digite (1) Inclusão, (2) exclusão, (3) mostrar (0) sair 1\n",
      "Digite valor para incluir 30\n",
      "Digite (1) Inclusão, (2) exclusão, (3) mostrar (0) sair 3\n"
     ]
    },
    {
     "name": "stdout",
     "output_type": "stream",
     "text": [
      "30\n"
     ]
    },
    {
     "name": "stdin",
     "output_type": "stream",
     "text": [
      "Digite (1) Inclusão, (2) exclusão, (3) mostrar (0) sair 1\n",
      "Digite valor para incluir 20\n"
     ]
    }
   ],
   "source": [
    "# Classe que representa um elemento da lista, com um valor e o próximo elemento\n",
    "class Elemento:\n",
    "    def __init__(self):\n",
    "        self.valor = 0  # Valor inicial do elemento\n",
    "        self.prox = None  # Ponteiro para o próximo elemento (inicialmente, None)\n",
    "\n",
    "# Classe que mantém os ponteiros para a busca: anterior e atual\n",
    "class Ponteiros:\n",
    "    def __init__(self): \n",
    "        self.ant = None  # Ponteiro para o elemento anterior\n",
    "        self.pont = None  # Ponteiro para o elemento atual\n",
    "\n",
    "# Função que realiza a busca de um valor na lista\n",
    "def busca(chave):\n",
    "    global primeiro  # Acesso à variável global 'primeiro', que é o início da lista\n",
    "    ponteiros = Ponteiros()  # Criação de um objeto Ponteiros para controlar a busca\n",
    "    ponteiros.pont = primeiro.prox  # Começa a busca a partir do segundo elemento (primeiro é cabeça da lista)\n",
    "    ponteiros.ant = primeiro  # Ponteiro anterior é o primeiro elemento (cabeça)\n",
    "    \n",
    "    # Enquanto o valor do ponteiro atual for diferente de 0 e menor que a chave, continua a busca\n",
    "    while ((ponteiros.pont.valor != 0) and (ponteiros.pont.valor < chave)):\n",
    "        ponteiros.ant = ponteiros.pont  # Atualiza o ponteiro anterior\n",
    "        ponteiros.pont = ponteiros.pont.prox  # Atualiza o ponteiro atual para o próximo elemento\n",
    "    \n",
    "    return ponteiros  # Retorna os ponteiros (ant e pont)\n",
    "\n",
    "# Função para incluir um novo valor na lista\n",
    "def incluir(chave):\n",
    "    ponteiros = busca(chave)  # Realiza a busca para verificar a posição onde o valor deve ser incluído\n",
    "    if (ponteiros.pont.valor != chave):  # Se o valor não for encontrado (não existe na lista)\n",
    "        novo = Elemento()  # Cria um novo elemento\n",
    "        novo.valor = chave  # Atribui o valor ao novo elemento\n",
    "        novo.prox = ponteiros.pont  # O próximo do novo elemento será o ponteiro atual\n",
    "        ponteiros.ant.prox = novo  # O ponteiro anterior terá como próximo o novo elemento\n",
    "    else:\n",
    "        print(\"Elemento existe na lista\")  # Caso o elemento já exista, avisa ao usuário\n",
    "\n",
    "# Função para excluir um valor da lista\n",
    "def excluir(chave):\n",
    "    ponteiros = busca(chave)  # Realiza a busca do valor\n",
    "    if (ponteiros.pont.valor == chave):  # Se o valor for encontrado\n",
    "        ptaux = ponteiros.pont  # Cria uma variável temporária para armazenar o ponteiro atual\n",
    "        ponteiros.ant.prox = ponteiros.pont.prox  # O ponteiro anterior aponta para o próximo do elemento atual\n",
    "        del ptaux  # Deleta o elemento atual (removerá da memória)\n",
    "    else:\n",
    "        print(\"Chave inexistente\")  # Caso a chave não seja encontrada, avisa ao usuário\n",
    "\n",
    "# Função para mostrar todos os valores da lista\n",
    "def mostrar():\n",
    "    global primeiro  # Acesso à variável global 'primeiro', que é o início da lista\n",
    "    ptr = Ponteiros()  # Criação de um objeto Ponteiros para percorrer a lista\n",
    "    ptr.pont = primeiro.prox  # Começa a exibição a partir do segundo elemento (primeiro é cabeça da lista)\n",
    "    \n",
    "    # Enquanto o valor do ponteiro atual for diferente de 0, imprime o valor\n",
    "    while (ptr.pont.valor != 0):\n",
    "        print(ptr.pont.valor)  # Imprime o valor do elemento\n",
    "        ptr.pont = ptr.pont.prox  # Atualiza o ponteiro atual para o próximo elemento\n",
    "    return\n",
    "\n",
    "# Inicialização da lista com o elemento cabeça (primeiro) que possui valor 0\n",
    "primeiro = Elemento()  \n",
    "primeiro.valor = 0  # Valor da cabeça da lista\n",
    "primeiro.prox = primeiro  # O ponteiro \"prox\" da cabeça aponta para ela mesma, formando uma lista circular\n",
    "\n",
    "# Laço de controle de opções do menu\n",
    "cont = 1  # Inicializa a variável de controle para o menu\n",
    "while (cont != 0):  # Enquanto o valor de cont não for 0 (indica sair)\n",
    "    # Solicita a opção do usuário\n",
    "    cont = int(input(\"Digite (1) Inclusão, (2) exclusão, (3) mostrar (0) sair: \"))\n",
    "    \n",
    "    # Inclusão de um novo valor\n",
    "    if (cont == 1):\n",
    "        chave = int(input(\"Digite valor para incluir: \"))\n",
    "        incluir(chave)\n",
    "    \n",
    "    # Exclusão de um valor\n",
    "    elif (cont == 2):\n",
    "        chave = int(input(\"Digite valor para excluir: \"))\n",
    "        n = excluir(chave)\n",
    "    \n",
    "    # Exibição dos valores da lista\n",
    "    elif (cont == 3):\n",
    "        mostrar()\n"
   ]
  }
 ],
 "metadata": {
  "kernelspec": {
   "display_name": "Python 3 (ipykernel)",
   "language": "python",
   "name": "python3"
  },
  "language_info": {
   "codemirror_mode": {
    "name": "ipython",
    "version": 3
   },
   "file_extension": ".py",
   "mimetype": "text/x-python",
   "name": "python",
   "nbconvert_exporter": "python",
   "pygments_lexer": "ipython3",
   "version": "3.12.6"
  }
 },
 "nbformat": 4,
 "nbformat_minor": 5
}
