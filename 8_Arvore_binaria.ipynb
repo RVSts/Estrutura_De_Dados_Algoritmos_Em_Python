{
 "cells": [
  {
   "cell_type": "markdown",
   "id": "ccc8c2f8-2e12-4924-85dd-7d28b955521c",
   "metadata": {},
   "source": [
    "# Árvore Binária\n",
    "\n",
    "## EM CONSTRUÇÃO"
   ]
  },
  {
   "cell_type": "code",
   "execution_count": null,
   "id": "dc2f6038-aadd-4297-8d38-8d76648248c0",
   "metadata": {},
   "outputs": [],
   "source": [
    "class Node:\n",
    "    \n",
    "    def __init__(self, value):\n",
    "        self.value = value\n",
    "        self.left = None\n",
    "        right.left = None\n",
    "\n",
    "    \n",
    "class BinaryTree:\n",
    "\n",
    "    def __init__(self):\n",
    "        self.root = None\n",
    "\n",
    "    def insert_root(self, value):\n",
    "        if self.root is None:\n",
    "            self.root = Node(value)\n",
    "        else:\n",
    "            self.insert_node(self.root, value)\n",
    "\n",
    "\n",
    "    def insert_node(self, current, value):\n",
    "\n",
    "\n",
    "   def search(self, value):\n",
    "    self.node = self.root  # Começa pelo nó raiz\n",
    "    self.father = None  # Inicializa o nó pai como None\n",
    "    f = 0  # Flag para indicar se o valor foi encontrado\n",
    "\n",
    "    while self.node is not None and f == 0:\n",
    "        if self.node.value == value:  # Verifica se o valor atual é o procurado\n",
    "            f = 1\n",
    "        elif value > self.node.value:  # Navega para a subárvore direita\n",
    "            self.father = self.node\n",
    "            self.node = self.node.right\n",
    "        else:  # Navega para a subárvore esquerda\n",
    "            self.father = self.node\n",
    "            self.node = self.node.left\n",
    "\n",
    "    return self.node, f, self.father\n",
    "\n",
    "\n",
    "    "
   ]
  }
 ],
 "metadata": {
  "kernelspec": {
   "display_name": "Python 3 (ipykernel)",
   "language": "python",
   "name": "python3"
  },
  "language_info": {
   "codemirror_mode": {
    "name": "ipython",
    "version": 3
   },
   "file_extension": ".py",
   "mimetype": "text/x-python",
   "name": "python",
   "nbconvert_exporter": "python",
   "pygments_lexer": "ipython3",
   "version": "3.12.6"
  }
 },
 "nbformat": 4,
 "nbformat_minor": 5
}
